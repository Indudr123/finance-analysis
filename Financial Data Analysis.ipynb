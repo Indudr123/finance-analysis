{
 "cells": [
  {
   "cell_type": "code",
   "execution_count": 46,
   "id": "6e080fc6",
   "metadata": {},
   "outputs": [],
   "source": [
    "import pandas as pd\n",
    "import numpy as np\n",
    "import matplotlib.pyplot as plt\n",
    "import seaborn as sns"
   ]
  },
  {
   "cell_type": "code",
   "execution_count": 2,
   "id": "8587035e",
   "metadata": {},
   "outputs": [],
   "source": [
    "data = pd.read_csv(\"finance_data.csv\")"
   ]
  },
  {
   "cell_type": "code",
   "execution_count": 3,
   "id": "a9aa7e43",
   "metadata": {},
   "outputs": [
    {
     "data": {
      "text/html": [
       "<div>\n",
       "<style scoped>\n",
       "    .dataframe tbody tr th:only-of-type {\n",
       "        vertical-align: middle;\n",
       "    }\n",
       "\n",
       "    .dataframe tbody tr th {\n",
       "        vertical-align: top;\n",
       "    }\n",
       "\n",
       "    .dataframe thead th {\n",
       "        text-align: right;\n",
       "    }\n",
       "</style>\n",
       "<table border=\"1\" class=\"dataframe\">\n",
       "  <thead>\n",
       "    <tr style=\"text-align: right;\">\n",
       "      <th></th>\n",
       "      <th>Transaction_ID</th>\n",
       "      <th>Date</th>\n",
       "      <th>Category</th>\n",
       "      <th>Amount</th>\n",
       "      <th>Currency</th>\n",
       "      <th>Payment_Method</th>\n",
       "      <th>Location</th>\n",
       "      <th>Merchant</th>\n",
       "      <th>Customer_Age</th>\n",
       "      <th>Customer_Gender</th>\n",
       "    </tr>\n",
       "  </thead>\n",
       "  <tbody>\n",
       "    <tr>\n",
       "      <th>0</th>\n",
       "      <td>TRX0001</td>\n",
       "      <td>2020-01-01</td>\n",
       "      <td>Healthcare</td>\n",
       "      <td>218.084871</td>\n",
       "      <td>USD</td>\n",
       "      <td>Debit Card</td>\n",
       "      <td>ATM</td>\n",
       "      <td>Uber</td>\n",
       "      <td>49</td>\n",
       "      <td>Female</td>\n",
       "    </tr>\n",
       "    <tr>\n",
       "      <th>1</th>\n",
       "      <td>TRX0002</td>\n",
       "      <td>2020-01-02</td>\n",
       "      <td>Groceries</td>\n",
       "      <td>62.732676</td>\n",
       "      <td>EUR</td>\n",
       "      <td>Credit Card</td>\n",
       "      <td>ATM</td>\n",
       "      <td>Walmart</td>\n",
       "      <td>32</td>\n",
       "      <td>Female</td>\n",
       "    </tr>\n",
       "    <tr>\n",
       "      <th>2</th>\n",
       "      <td>TRX0003</td>\n",
       "      <td>2020-01-03</td>\n",
       "      <td>Transportation</td>\n",
       "      <td>288.426621</td>\n",
       "      <td>GBP</td>\n",
       "      <td>Cash</td>\n",
       "      <td>Online</td>\n",
       "      <td>Walmart</td>\n",
       "      <td>38</td>\n",
       "      <td>Female</td>\n",
       "    </tr>\n",
       "    <tr>\n",
       "      <th>3</th>\n",
       "      <td>TRX0004</td>\n",
       "      <td>2020-01-04</td>\n",
       "      <td>Transportation</td>\n",
       "      <td>130.812901</td>\n",
       "      <td>USD</td>\n",
       "      <td>Debit Card</td>\n",
       "      <td>Online</td>\n",
       "      <td>CVS</td>\n",
       "      <td>36</td>\n",
       "      <td>Female</td>\n",
       "    </tr>\n",
       "    <tr>\n",
       "      <th>4</th>\n",
       "      <td>TRX0005</td>\n",
       "      <td>2020-01-05</td>\n",
       "      <td>Transportation</td>\n",
       "      <td>302.252202</td>\n",
       "      <td>USD</td>\n",
       "      <td>Cash</td>\n",
       "      <td>In-store</td>\n",
       "      <td>Starbucks</td>\n",
       "      <td>53</td>\n",
       "      <td>Female</td>\n",
       "    </tr>\n",
       "  </tbody>\n",
       "</table>\n",
       "</div>"
      ],
      "text/plain": [
       "  Transaction_ID        Date        Category      Amount Currency  \\\n",
       "0        TRX0001  2020-01-01      Healthcare  218.084871      USD   \n",
       "1        TRX0002  2020-01-02       Groceries   62.732676      EUR   \n",
       "2        TRX0003  2020-01-03  Transportation  288.426621      GBP   \n",
       "3        TRX0004  2020-01-04  Transportation  130.812901      USD   \n",
       "4        TRX0005  2020-01-05  Transportation  302.252202      USD   \n",
       "\n",
       "  Payment_Method  Location   Merchant  Customer_Age Customer_Gender  \n",
       "0     Debit Card       ATM       Uber            49          Female  \n",
       "1    Credit Card       ATM    Walmart            32          Female  \n",
       "2           Cash    Online    Walmart            38          Female  \n",
       "3     Debit Card    Online        CVS            36          Female  \n",
       "4           Cash  In-store  Starbucks            53          Female  "
      ]
     },
     "execution_count": 3,
     "metadata": {},
     "output_type": "execute_result"
    }
   ],
   "source": [
    "data.head()"
   ]
  },
  {
   "cell_type": "markdown",
   "id": "6808c345",
   "metadata": {},
   "source": [
    "# Total amount spend by category"
   ]
  },
  {
   "cell_type": "code",
   "execution_count": 5,
   "id": "aec2e369",
   "metadata": {},
   "outputs": [
    {
     "data": {
      "text/plain": [
       "Category\n",
       "Entertainment     48747.741658\n",
       "Groceries         50920.962789\n",
       "Healthcare        47277.137205\n",
       "Transportation    65140.831604\n",
       "Utilities         48139.812031\n",
       "Name: Amount, dtype: float64"
      ]
     },
     "execution_count": 5,
     "metadata": {},
     "output_type": "execute_result"
    }
   ],
   "source": [
    "data.groupby('Category')['Amount'].sum()"
   ]
  },
  {
   "cell_type": "code",
   "execution_count": 6,
   "id": "61f8e03a",
   "metadata": {},
   "outputs": [],
   "source": [
    "category_amount = data.groupby('Category')['Amount'].sum()"
   ]
  },
  {
   "cell_type": "code",
   "execution_count": 7,
   "id": "8f1f6fe2",
   "metadata": {},
   "outputs": [
    {
     "data": {
      "text/plain": [
       "<AxesSubplot:xlabel='Category'>"
      ]
     },
     "execution_count": 7,
     "metadata": {},
     "output_type": "execute_result"
    },
    {
     "data": {
      "image/png": "[encoded data removed]",
      "text/plain": [
       "<Figure size 640x480 with 1 Axes>"
      ]
     },
     "metadata": {},
     "output_type": "display_data"
    }
   ],
   "source": [
    "category_amount.plot(kind = 'bar', color = \"skyblue\")"
   ]
  },
  {
   "cell_type": "code",
   "execution_count": 8,
   "id": "77df8302",
   "metadata": {},
   "outputs": [
    {
     "data": {
      "text/html": [
       "<div>\n",
       "<style scoped>\n",
       "    .dataframe tbody tr th:only-of-type {\n",
       "        vertical-align: middle;\n",
       "    }\n",
       "\n",
       "    .dataframe tbody tr th {\n",
       "        vertical-align: top;\n",
       "    }\n",
       "\n",
       "    .dataframe thead th {\n",
       "        text-align: right;\n",
       "    }\n",
       "</style>\n",
       "<table border=\"1\" class=\"dataframe\">\n",
       "  <thead>\n",
       "    <tr style=\"text-align: right;\">\n",
       "      <th></th>\n",
       "      <th>Transaction_ID</th>\n",
       "      <th>Date</th>\n",
       "      <th>Category</th>\n",
       "      <th>Amount</th>\n",
       "      <th>Currency</th>\n",
       "      <th>Payment_Method</th>\n",
       "      <th>Location</th>\n",
       "      <th>Merchant</th>\n",
       "      <th>Customer_Age</th>\n",
       "      <th>Customer_Gender</th>\n",
       "    </tr>\n",
       "  </thead>\n",
       "  <tbody>\n",
       "    <tr>\n",
       "      <th>0</th>\n",
       "      <td>TRX0001</td>\n",
       "      <td>2020-01-01</td>\n",
       "      <td>Healthcare</td>\n",
       "      <td>218.084871</td>\n",
       "      <td>USD</td>\n",
       "      <td>Debit Card</td>\n",
       "      <td>ATM</td>\n",
       "      <td>Uber</td>\n",
       "      <td>49</td>\n",
       "      <td>Female</td>\n",
       "    </tr>\n",
       "    <tr>\n",
       "      <th>1</th>\n",
       "      <td>TRX0002</td>\n",
       "      <td>2020-01-02</td>\n",
       "      <td>Groceries</td>\n",
       "      <td>62.732676</td>\n",
       "      <td>EUR</td>\n",
       "      <td>Credit Card</td>\n",
       "      <td>ATM</td>\n",
       "      <td>Walmart</td>\n",
       "      <td>32</td>\n",
       "      <td>Female</td>\n",
       "    </tr>\n",
       "    <tr>\n",
       "      <th>2</th>\n",
       "      <td>TRX0003</td>\n",
       "      <td>2020-01-03</td>\n",
       "      <td>Transportation</td>\n",
       "      <td>288.426621</td>\n",
       "      <td>GBP</td>\n",
       "      <td>Cash</td>\n",
       "      <td>Online</td>\n",
       "      <td>Walmart</td>\n",
       "      <td>38</td>\n",
       "      <td>Female</td>\n",
       "    </tr>\n",
       "    <tr>\n",
       "      <th>3</th>\n",
       "      <td>TRX0004</td>\n",
       "      <td>2020-01-04</td>\n",
       "      <td>Transportation</td>\n",
       "      <td>130.812901</td>\n",
       "      <td>USD</td>\n",
       "      <td>Debit Card</td>\n",
       "      <td>Online</td>\n",
       "      <td>CVS</td>\n",
       "      <td>36</td>\n",
       "      <td>Female</td>\n",
       "    </tr>\n",
       "    <tr>\n",
       "      <th>4</th>\n",
       "      <td>TRX0005</td>\n",
       "      <td>2020-01-05</td>\n",
       "      <td>Transportation</td>\n",
       "      <td>302.252202</td>\n",
       "      <td>USD</td>\n",
       "      <td>Cash</td>\n",
       "      <td>In-store</td>\n",
       "      <td>Starbucks</td>\n",
       "      <td>53</td>\n",
       "      <td>Female</td>\n",
       "    </tr>\n",
       "    <tr>\n",
       "      <th>...</th>\n",
       "      <td>...</td>\n",
       "      <td>...</td>\n",
       "      <td>...</td>\n",
       "      <td>...</td>\n",
       "      <td>...</td>\n",
       "      <td>...</td>\n",
       "      <td>...</td>\n",
       "      <td>...</td>\n",
       "      <td>...</td>\n",
       "      <td>...</td>\n",
       "    </tr>\n",
       "    <tr>\n",
       "      <th>995</th>\n",
       "      <td>TRX0996</td>\n",
       "      <td>2022-09-22</td>\n",
       "      <td>Healthcare</td>\n",
       "      <td>45.574033</td>\n",
       "      <td>EUR</td>\n",
       "      <td>Credit Card</td>\n",
       "      <td>ATM</td>\n",
       "      <td>Uber</td>\n",
       "      <td>76</td>\n",
       "      <td>Male</td>\n",
       "    </tr>\n",
       "    <tr>\n",
       "      <th>996</th>\n",
       "      <td>TRX0997</td>\n",
       "      <td>2022-09-23</td>\n",
       "      <td>Transportation</td>\n",
       "      <td>385.667958</td>\n",
       "      <td>EUR</td>\n",
       "      <td>Debit Card</td>\n",
       "      <td>In-store</td>\n",
       "      <td>Walmart</td>\n",
       "      <td>38</td>\n",
       "      <td>Female</td>\n",
       "    </tr>\n",
       "    <tr>\n",
       "      <th>997</th>\n",
       "      <td>TRX0998</td>\n",
       "      <td>2022-09-24</td>\n",
       "      <td>Entertainment</td>\n",
       "      <td>140.521492</td>\n",
       "      <td>GBP</td>\n",
       "      <td>Debit Card</td>\n",
       "      <td>Online</td>\n",
       "      <td>Walmart</td>\n",
       "      <td>75</td>\n",
       "      <td>Female</td>\n",
       "    </tr>\n",
       "    <tr>\n",
       "      <th>998</th>\n",
       "      <td>TRX0999</td>\n",
       "      <td>2022-09-25</td>\n",
       "      <td>Entertainment</td>\n",
       "      <td>190.613471</td>\n",
       "      <td>USD</td>\n",
       "      <td>Credit Card</td>\n",
       "      <td>ATM</td>\n",
       "      <td>Walmart</td>\n",
       "      <td>78</td>\n",
       "      <td>Female</td>\n",
       "    </tr>\n",
       "    <tr>\n",
       "      <th>999</th>\n",
       "      <td>TRX1000</td>\n",
       "      <td>2022-09-26</td>\n",
       "      <td>Transportation</td>\n",
       "      <td>117.446899</td>\n",
       "      <td>EUR</td>\n",
       "      <td>Cash</td>\n",
       "      <td>Online</td>\n",
       "      <td>Amazon</td>\n",
       "      <td>41</td>\n",
       "      <td>Female</td>\n",
       "    </tr>\n",
       "  </tbody>\n",
       "</table>\n",
       "<p>1000 rows × 10 columns</p>\n",
       "</div>"
      ],
      "text/plain": [
       "    Transaction_ID        Date        Category      Amount Currency  \\\n",
       "0          TRX0001  2020-01-01      Healthcare  218.084871      USD   \n",
       "1          TRX0002  2020-01-02       Groceries   62.732676      EUR   \n",
       "2          TRX0003  2020-01-03  Transportation  288.426621      GBP   \n",
       "3          TRX0004  2020-01-04  Transportation  130.812901      USD   \n",
       "4          TRX0005  2020-01-05  Transportation  302.252202      USD   \n",
       "..             ...         ...             ...         ...      ...   \n",
       "995        TRX0996  2022-09-22      Healthcare   45.574033      EUR   \n",
       "996        TRX0997  2022-09-23  Transportation  385.667958      EUR   \n",
       "997        TRX0998  2022-09-24   Entertainment  140.521492      GBP   \n",
       "998        TRX0999  2022-09-25   Entertainment  190.613471      USD   \n",
       "999        TRX1000  2022-09-26  Transportation  117.446899      EUR   \n",
       "\n",
       "    Payment_Method  Location   Merchant  Customer_Age Customer_Gender  \n",
       "0       Debit Card       ATM       Uber            49          Female  \n",
       "1      Credit Card       ATM    Walmart            32          Female  \n",
       "2             Cash    Online    Walmart            38          Female  \n",
       "3       Debit Card    Online        CVS            36          Female  \n",
       "4             Cash  In-store  Starbucks            53          Female  \n",
       "..             ...       ...        ...           ...             ...  \n",
       "995    Credit Card       ATM       Uber            76            Male  \n",
       "996     Debit Card  In-store    Walmart            38          Female  \n",
       "997     Debit Card    Online    Walmart            75          Female  \n",
       "998    Credit Card       ATM    Walmart            78          Female  \n",
       "999           Cash    Online     Amazon            41          Female  \n",
       "\n",
       "[1000 rows x 10 columns]"
      ]
     },
     "execution_count": 8,
     "metadata": {},
     "output_type": "execute_result"
    }
   ],
   "source": [
    "data"
   ]
  },
  {
   "cell_type": "markdown",
   "id": "26952ef3",
   "metadata": {},
   "source": [
    "# expenditure based on month"
   ]
  },
  {
   "cell_type": "code",
   "execution_count": 14,
   "id": "e674ea8c",
   "metadata": {},
   "outputs": [],
   "source": [
    "data['Date'] = pd.to_datetime(data['Date'])"
   ]
  },
  {
   "cell_type": "code",
   "execution_count": 10,
   "id": "5235c4ee",
   "metadata": {},
   "outputs": [
    {
     "data": {
      "text/plain": [
       "0        January 2020\n",
       "1        January 2020\n",
       "2        January 2020\n",
       "3        January 2020\n",
       "4        January 2020\n",
       "            ...      \n",
       "995    September 2022\n",
       "996    September 2022\n",
       "997    September 2022\n",
       "998    September 2022\n",
       "999    September 2022\n",
       "Name: Date, Length: 1000, dtype: object"
      ]
     },
     "execution_count": 10,
     "metadata": {},
     "output_type": "execute_result"
    }
   ],
   "source": [
    "data['Date'].dt.strftime(\"%B %Y\")"
   ]
  },
  {
   "cell_type": "code",
   "execution_count": 11,
   "id": "20b53cc8",
   "metadata": {},
   "outputs": [],
   "source": [
    "data['Month'] = data['Date'].dt.strftime(\"%B %Y\")"
   ]
  },
  {
   "cell_type": "code",
   "execution_count": 13,
   "id": "2b2c5b81",
   "metadata": {},
   "outputs": [
    {
     "data": {
      "text/html": [
       "<div>\n",
       "<style scoped>\n",
       "    .dataframe tbody tr th:only-of-type {\n",
       "        vertical-align: middle;\n",
       "    }\n",
       "\n",
       "    .dataframe tbody tr th {\n",
       "        vertical-align: top;\n",
       "    }\n",
       "\n",
       "    .dataframe thead th {\n",
       "        text-align: right;\n",
       "    }\n",
       "</style>\n",
       "<table border=\"1\" class=\"dataframe\">\n",
       "  <thead>\n",
       "    <tr style=\"text-align: right;\">\n",
       "      <th></th>\n",
       "      <th>Transaction_ID</th>\n",
       "      <th>Date</th>\n",
       "      <th>Category</th>\n",
       "      <th>Amount</th>\n",
       "      <th>Currency</th>\n",
       "      <th>Payment_Method</th>\n",
       "      <th>Location</th>\n",
       "      <th>Merchant</th>\n",
       "      <th>Customer_Age</th>\n",
       "      <th>Customer_Gender</th>\n",
       "      <th>Month</th>\n",
       "    </tr>\n",
       "  </thead>\n",
       "  <tbody>\n",
       "    <tr>\n",
       "      <th>0</th>\n",
       "      <td>TRX0001</td>\n",
       "      <td>2020-01-01</td>\n",
       "      <td>Healthcare</td>\n",
       "      <td>218.084871</td>\n",
       "      <td>USD</td>\n",
       "      <td>Debit Card</td>\n",
       "      <td>ATM</td>\n",
       "      <td>Uber</td>\n",
       "      <td>49</td>\n",
       "      <td>Female</td>\n",
       "      <td>January 2020</td>\n",
       "    </tr>\n",
       "    <tr>\n",
       "      <th>1</th>\n",
       "      <td>TRX0002</td>\n",
       "      <td>2020-01-02</td>\n",
       "      <td>Groceries</td>\n",
       "      <td>62.732676</td>\n",
       "      <td>EUR</td>\n",
       "      <td>Credit Card</td>\n",
       "      <td>ATM</td>\n",
       "      <td>Walmart</td>\n",
       "      <td>32</td>\n",
       "      <td>Female</td>\n",
       "      <td>January 2020</td>\n",
       "    </tr>\n",
       "    <tr>\n",
       "      <th>2</th>\n",
       "      <td>TRX0003</td>\n",
       "      <td>2020-01-03</td>\n",
       "      <td>Transportation</td>\n",
       "      <td>288.426621</td>\n",
       "      <td>GBP</td>\n",
       "      <td>Cash</td>\n",
       "      <td>Online</td>\n",
       "      <td>Walmart</td>\n",
       "      <td>38</td>\n",
       "      <td>Female</td>\n",
       "      <td>January 2020</td>\n",
       "    </tr>\n",
       "    <tr>\n",
       "      <th>3</th>\n",
       "      <td>TRX0004</td>\n",
       "      <td>2020-01-04</td>\n",
       "      <td>Transportation</td>\n",
       "      <td>130.812901</td>\n",
       "      <td>USD</td>\n",
       "      <td>Debit Card</td>\n",
       "      <td>Online</td>\n",
       "      <td>CVS</td>\n",
       "      <td>36</td>\n",
       "      <td>Female</td>\n",
       "      <td>January 2020</td>\n",
       "    </tr>\n",
       "    <tr>\n",
       "      <th>4</th>\n",
       "      <td>TRX0005</td>\n",
       "      <td>2020-01-05</td>\n",
       "      <td>Transportation</td>\n",
       "      <td>302.252202</td>\n",
       "      <td>USD</td>\n",
       "      <td>Cash</td>\n",
       "      <td>In-store</td>\n",
       "      <td>Starbucks</td>\n",
       "      <td>53</td>\n",
       "      <td>Female</td>\n",
       "      <td>January 2020</td>\n",
       "    </tr>\n",
       "    <tr>\n",
       "      <th>...</th>\n",
       "      <td>...</td>\n",
       "      <td>...</td>\n",
       "      <td>...</td>\n",
       "      <td>...</td>\n",
       "      <td>...</td>\n",
       "      <td>...</td>\n",
       "      <td>...</td>\n",
       "      <td>...</td>\n",
       "      <td>...</td>\n",
       "      <td>...</td>\n",
       "      <td>...</td>\n",
       "    </tr>\n",
       "    <tr>\n",
       "      <th>995</th>\n",
       "      <td>TRX0996</td>\n",
       "      <td>2022-09-22</td>\n",
       "      <td>Healthcare</td>\n",
       "      <td>45.574033</td>\n",
       "      <td>EUR</td>\n",
       "      <td>Credit Card</td>\n",
       "      <td>ATM</td>\n",
       "      <td>Uber</td>\n",
       "      <td>76</td>\n",
       "      <td>Male</td>\n",
       "      <td>September 2022</td>\n",
       "    </tr>\n",
       "    <tr>\n",
       "      <th>996</th>\n",
       "      <td>TRX0997</td>\n",
       "      <td>2022-09-23</td>\n",
       "      <td>Transportation</td>\n",
       "      <td>385.667958</td>\n",
       "      <td>EUR</td>\n",
       "      <td>Debit Card</td>\n",
       "      <td>In-store</td>\n",
       "      <td>Walmart</td>\n",
       "      <td>38</td>\n",
       "      <td>Female</td>\n",
       "      <td>September 2022</td>\n",
       "    </tr>\n",
       "    <tr>\n",
       "      <th>997</th>\n",
       "      <td>TRX0998</td>\n",
       "      <td>2022-09-24</td>\n",
       "      <td>Entertainment</td>\n",
       "      <td>140.521492</td>\n",
       "      <td>GBP</td>\n",
       "      <td>Debit Card</td>\n",
       "      <td>Online</td>\n",
       "      <td>Walmart</td>\n",
       "      <td>75</td>\n",
       "      <td>Female</td>\n",
       "      <td>September 2022</td>\n",
       "    </tr>\n",
       "    <tr>\n",
       "      <th>998</th>\n",
       "      <td>TRX0999</td>\n",
       "      <td>2022-09-25</td>\n",
       "      <td>Entertainment</td>\n",
       "      <td>190.613471</td>\n",
       "      <td>USD</td>\n",
       "      <td>Credit Card</td>\n",
       "      <td>ATM</td>\n",
       "      <td>Walmart</td>\n",
       "      <td>78</td>\n",
       "      <td>Female</td>\n",
       "      <td>September 2022</td>\n",
       "    </tr>\n",
       "    <tr>\n",
       "      <th>999</th>\n",
       "      <td>TRX1000</td>\n",
       "      <td>2022-09-26</td>\n",
       "      <td>Transportation</td>\n",
       "      <td>117.446899</td>\n",
       "      <td>EUR</td>\n",
       "      <td>Cash</td>\n",
       "      <td>Online</td>\n",
       "      <td>Amazon</td>\n",
       "      <td>41</td>\n",
       "      <td>Female</td>\n",
       "      <td>September 2022</td>\n",
       "    </tr>\n",
       "  </tbody>\n",
       "</table>\n",
       "<p>1000 rows × 11 columns</p>\n",
       "</div>"
      ],
      "text/plain": [
       "    Transaction_ID       Date        Category      Amount Currency  \\\n",
       "0          TRX0001 2020-01-01      Healthcare  218.084871      USD   \n",
       "1          TRX0002 2020-01-02       Groceries   62.732676      EUR   \n",
       "2          TRX0003 2020-01-03  Transportation  288.426621      GBP   \n",
       "3          TRX0004 2020-01-04  Transportation  130.812901      USD   \n",
       "4          TRX0005 2020-01-05  Transportation  302.252202      USD   \n",
       "..             ...        ...             ...         ...      ...   \n",
       "995        TRX0996 2022-09-22      Healthcare   45.574033      EUR   \n",
       "996        TRX0997 2022-09-23  Transportation  385.667958      EUR   \n",
       "997        TRX0998 2022-09-24   Entertainment  140.521492      GBP   \n",
       "998        TRX0999 2022-09-25   Entertainment  190.613471      USD   \n",
       "999        TRX1000 2022-09-26  Transportation  117.446899      EUR   \n",
       "\n",
       "    Payment_Method  Location   Merchant  Customer_Age Customer_Gender  \\\n",
       "0       Debit Card       ATM       Uber            49          Female   \n",
       "1      Credit Card       ATM    Walmart            32          Female   \n",
       "2             Cash    Online    Walmart            38          Female   \n",
       "3       Debit Card    Online        CVS            36          Female   \n",
       "4             Cash  In-store  Starbucks            53          Female   \n",
       "..             ...       ...        ...           ...             ...   \n",
       "995    Credit Card       ATM       Uber            76            Male   \n",
       "996     Debit Card  In-store    Walmart            38          Female   \n",
       "997     Debit Card    Online    Walmart            75          Female   \n",
       "998    Credit Card       ATM    Walmart            78          Female   \n",
       "999           Cash    Online     Amazon            41          Female   \n",
       "\n",
       "              Month  \n",
       "0      January 2020  \n",
       "1      January 2020  \n",
       "2      January 2020  \n",
       "3      January 2020  \n",
       "4      January 2020  \n",
       "..              ...  \n",
       "995  September 2022  \n",
       "996  September 2022  \n",
       "997  September 2022  \n",
       "998  September 2022  \n",
       "999  September 2022  \n",
       "\n",
       "[1000 rows x 11 columns]"
      ]
     },
     "execution_count": 13,
     "metadata": {},
     "output_type": "execute_result"
    }
   ],
   "source": [
    "data"
   ]
  },
  {
   "cell_type": "code",
   "execution_count": 16,
   "id": "1fe037af",
   "metadata": {},
   "outputs": [
    {
     "data": {
      "text/plain": [
       "Month\n",
       "April 2020        8135.482040\n",
       "April 2021        9364.831836\n",
       "April 2022        7846.941249\n",
       "August 2020       7268.107157\n",
       "August 2021       8016.524919\n",
       "August 2022       7516.928925\n",
       "December 2020     7242.717367\n",
       "December 2021     7846.298299\n",
       "February 2020     7171.932825\n",
       "February 2021     8184.506795\n",
       "February 2022     6750.917957\n",
       "January 2020      7705.583733\n",
       "January 2021      8562.499569\n",
       "January 2022      9377.750634\n",
       "July 2020         8762.424045\n",
       "July 2021         7994.930994\n",
       "July 2022         6926.401001\n",
       "June 2020         6951.404185\n",
       "June 2021         8813.313003\n",
       "June 2022         7850.362093\n",
       "March 2020        8264.315216\n",
       "March 2021        6707.959570\n",
       "March 2022        9301.943675\n",
       "May 2020          7819.692676\n",
       "May 2021          8006.817211\n",
       "May 2022          7828.422514\n",
       "November 2020     8129.223304\n",
       "November 2021     8720.841035\n",
       "October 2020      7373.924718\n",
       "October 2021      9137.117514\n",
       "September 2020    7621.662649\n",
       "September 2021    6461.388766\n",
       "September 2022    6563.317814\n",
       "Name: Amount, dtype: float64"
      ]
     },
     "execution_count": 16,
     "metadata": {},
     "output_type": "execute_result"
    }
   ],
   "source": [
    "data.groupby('Month')['Amount'].sum()"
   ]
  },
  {
   "cell_type": "code",
   "execution_count": 17,
   "id": "6f0d3e02",
   "metadata": {},
   "outputs": [],
   "source": [
    "month_expenditure = data.groupby('Month')['Amount'].sum()"
   ]
  },
  {
   "cell_type": "code",
   "execution_count": 18,
   "id": "42c6ac00",
   "metadata": {},
   "outputs": [
    {
     "data": {
      "text/plain": [
       "<AxesSubplot:xlabel='Month'>"
      ]
     },
     "execution_count": 18,
     "metadata": {},
     "output_type": "execute_result"
    },
    {
     "data": {
      "image/png": "[encoded data removed]",
      "text/plain": [
       "<Figure size 640x480 with 1 Axes>"
      ]
     },
     "metadata": {},
     "output_type": "display_data"
    }
   ],
   "source": [
    "month_expenditure.plot(kind = \"bar\")"
   ]
  },
  {
   "cell_type": "markdown",
   "id": "bf7fcc39",
   "metadata": {},
   "source": [
    "# group data based on category, payment_method and Amount"
   ]
  },
  {
   "cell_type": "code",
   "execution_count": 20,
   "id": "56b29069",
   "metadata": {},
   "outputs": [
    {
     "data": {
      "text/plain": [
       "Category        Payment_Method\n",
       "Entertainment   Cash              14934.489272\n",
       "                Credit Card       13456.746923\n",
       "                Debit Card        20356.505463\n",
       "Groceries       Cash              15920.087066\n",
       "                Credit Card       17431.373529\n",
       "                Debit Card        17569.502193\n",
       "Healthcare      Cash              15580.211239\n",
       "                Credit Card       16703.850755\n",
       "                Debit Card        14993.075211\n",
       "Transportation  Cash              19773.094560\n",
       "                Credit Card       21687.337776\n",
       "                Debit Card        23680.399269\n",
       "Utilities       Cash              16963.268848\n",
       "                Credit Card       18431.808849\n",
       "                Debit Card        12744.734333\n",
       "Name: Amount, dtype: float64"
      ]
     },
     "execution_count": 20,
     "metadata": {},
     "output_type": "execute_result"
    }
   ],
   "source": [
    "data.groupby(['Category',\"Payment_Method\"])['Amount'].sum()"
   ]
  },
  {
   "cell_type": "code",
   "execution_count": 30,
   "id": "b12e0162",
   "metadata": {},
   "outputs": [],
   "source": [
    "# data.groupby(['Amount'])['Category',\"Payment_Method\"].sum()"
   ]
  },
  {
   "cell_type": "code",
   "execution_count": 33,
   "id": "374574c2",
   "metadata": {},
   "outputs": [],
   "source": [
    "category_paymentMethod_Amount = data.groupby(['Category',\"Payment_Method\"])['Amount'].sum().unstack()"
   ]
  },
  {
   "cell_type": "code",
   "execution_count": 34,
   "id": "ef9f252c",
   "metadata": {},
   "outputs": [
    {
     "data": {
      "text/plain": [
       "<AxesSubplot:xlabel='Category'>"
      ]
     },
     "execution_count": 34,
     "metadata": {},
     "output_type": "execute_result"
    },
    {
     "data": {
      "image/png": "[encoded data removed]",
      "text/plain": [
       "<Figure size 640x480 with 1 Axes>"
      ]
     },
     "metadata": {},
     "output_type": "display_data"
    }
   ],
   "source": [
    "category_paymentMethod_Amount.plot(kind = \"bar\")"
   ]
  },
  {
   "cell_type": "code",
   "execution_count": 36,
   "id": "5c8c3790",
   "metadata": {},
   "outputs": [
    {
     "data": {
      "text/plain": [
       "Payment_Method  Customer_Gender  Category      \n",
       "Cash            Female           Entertainment      8397.988344\n",
       "                                 Groceries          6635.659348\n",
       "                                 Healthcare         8398.289856\n",
       "                                 Transportation    10628.177585\n",
       "                                 Utilities          7980.225868\n",
       "                Male             Entertainment      6536.500928\n",
       "                                 Groceries          9284.427718\n",
       "                                 Healthcare         7181.921383\n",
       "                                 Transportation     9144.916975\n",
       "                                 Utilities          8983.042980\n",
       "Credit Card     Female           Entertainment      5653.544322\n",
       "                                 Groceries         10280.748828\n",
       "                                 Healthcare         9645.090761\n",
       "                                 Transportation    10822.790760\n",
       "                                 Utilities         10094.001975\n",
       "                Male             Entertainment      7803.202601\n",
       "                                 Groceries          7150.624701\n",
       "                                 Healthcare         7058.759994\n",
       "                                 Transportation    10864.547016\n",
       "                                 Utilities          8337.806874\n",
       "Debit Card      Female           Entertainment     11306.038600\n",
       "                                 Groceries          8829.064681\n",
       "                                 Healthcare         7046.998484\n",
       "                                 Transportation    14057.025655\n",
       "                                 Utilities          6032.992142\n",
       "                Male             Entertainment      9050.466863\n",
       "                                 Groceries          8740.437512\n",
       "                                 Healthcare         7946.076727\n",
       "                                 Transportation     9623.373613\n",
       "                                 Utilities          6711.742192\n",
       "Name: Amount, dtype: float64"
      ]
     },
     "execution_count": 36,
     "metadata": {},
     "output_type": "execute_result"
    }
   ],
   "source": [
    "data.groupby(['Payment_Method', 'Customer_Gender', 'Category'])['Amount'].sum()"
   ]
  },
  {
   "cell_type": "code",
   "execution_count": 38,
   "id": "e0f2d0eb",
   "metadata": {},
   "outputs": [],
   "source": [
    "paymentmethod_gender_category_amount = data.groupby(['Payment_Method', 'Customer_Gender', 'Category'])['Amount'].sum().unstack()"
   ]
  },
  {
   "cell_type": "code",
   "execution_count": 41,
   "id": "a866e356",
   "metadata": {},
   "outputs": [
    {
     "data": {
      "text/plain": [
       "<AxesSubplot:xlabel='Payment_Method,Customer_Gender'>"
      ]
     },
     "execution_count": 41,
     "metadata": {},
     "output_type": "execute_result"
    },
    {
     "data": {
      "text/plain": [
       "<Figure size 1400x1400 with 0 Axes>"
      ]
     },
     "metadata": {},
     "output_type": "display_data"
    },
    {
     "data": {
      "image/png": "[encoded data removed]",
      "text/plain": [
       "<Figure size 640x480 with 1 Axes>"
      ]
     },
     "metadata": {},
     "output_type": "display_data"
    }
   ],
   "source": [
    "plt.figure(figsize=(14, 14))\n",
    "paymentmethod_gender_category_amount.plot(kind = \"bar\", stacked = True)"
   ]
  },
  {
   "cell_type": "code",
   "execution_count": 42,
   "id": "186481a0",
   "metadata": {},
   "outputs": [
    {
     "data": {
      "text/html": [
       "<div>\n",
       "<style scoped>\n",
       "    .dataframe tbody tr th:only-of-type {\n",
       "        vertical-align: middle;\n",
       "    }\n",
       "\n",
       "    .dataframe tbody tr th {\n",
       "        vertical-align: top;\n",
       "    }\n",
       "\n",
       "    .dataframe thead th {\n",
       "        text-align: right;\n",
       "    }\n",
       "</style>\n",
       "<table border=\"1\" class=\"dataframe\">\n",
       "  <thead>\n",
       "    <tr style=\"text-align: right;\">\n",
       "      <th></th>\n",
       "      <th>Transaction_ID</th>\n",
       "      <th>Date</th>\n",
       "      <th>Category</th>\n",
       "      <th>Amount</th>\n",
       "      <th>Currency</th>\n",
       "      <th>Payment_Method</th>\n",
       "      <th>Location</th>\n",
       "      <th>Merchant</th>\n",
       "      <th>Customer_Age</th>\n",
       "      <th>Customer_Gender</th>\n",
       "      <th>Month</th>\n",
       "    </tr>\n",
       "  </thead>\n",
       "  <tbody>\n",
       "    <tr>\n",
       "      <th>0</th>\n",
       "      <td>TRX0001</td>\n",
       "      <td>2020-01-01</td>\n",
       "      <td>Healthcare</td>\n",
       "      <td>218.084871</td>\n",
       "      <td>USD</td>\n",
       "      <td>Debit Card</td>\n",
       "      <td>ATM</td>\n",
       "      <td>Uber</td>\n",
       "      <td>49</td>\n",
       "      <td>Female</td>\n",
       "      <td>January 2020</td>\n",
       "    </tr>\n",
       "    <tr>\n",
       "      <th>1</th>\n",
       "      <td>TRX0002</td>\n",
       "      <td>2020-01-02</td>\n",
       "      <td>Groceries</td>\n",
       "      <td>62.732676</td>\n",
       "      <td>EUR</td>\n",
       "      <td>Credit Card</td>\n",
       "      <td>ATM</td>\n",
       "      <td>Walmart</td>\n",
       "      <td>32</td>\n",
       "      <td>Female</td>\n",
       "      <td>January 2020</td>\n",
       "    </tr>\n",
       "    <tr>\n",
       "      <th>2</th>\n",
       "      <td>TRX0003</td>\n",
       "      <td>2020-01-03</td>\n",
       "      <td>Transportation</td>\n",
       "      <td>288.426621</td>\n",
       "      <td>GBP</td>\n",
       "      <td>Cash</td>\n",
       "      <td>Online</td>\n",
       "      <td>Walmart</td>\n",
       "      <td>38</td>\n",
       "      <td>Female</td>\n",
       "      <td>January 2020</td>\n",
       "    </tr>\n",
       "    <tr>\n",
       "      <th>3</th>\n",
       "      <td>TRX0004</td>\n",
       "      <td>2020-01-04</td>\n",
       "      <td>Transportation</td>\n",
       "      <td>130.812901</td>\n",
       "      <td>USD</td>\n",
       "      <td>Debit Card</td>\n",
       "      <td>Online</td>\n",
       "      <td>CVS</td>\n",
       "      <td>36</td>\n",
       "      <td>Female</td>\n",
       "      <td>January 2020</td>\n",
       "    </tr>\n",
       "    <tr>\n",
       "      <th>4</th>\n",
       "      <td>TRX0005</td>\n",
       "      <td>2020-01-05</td>\n",
       "      <td>Transportation</td>\n",
       "      <td>302.252202</td>\n",
       "      <td>USD</td>\n",
       "      <td>Cash</td>\n",
       "      <td>In-store</td>\n",
       "      <td>Starbucks</td>\n",
       "      <td>53</td>\n",
       "      <td>Female</td>\n",
       "      <td>January 2020</td>\n",
       "    </tr>\n",
       "    <tr>\n",
       "      <th>...</th>\n",
       "      <td>...</td>\n",
       "      <td>...</td>\n",
       "      <td>...</td>\n",
       "      <td>...</td>\n",
       "      <td>...</td>\n",
       "      <td>...</td>\n",
       "      <td>...</td>\n",
       "      <td>...</td>\n",
       "      <td>...</td>\n",
       "      <td>...</td>\n",
       "      <td>...</td>\n",
       "    </tr>\n",
       "    <tr>\n",
       "      <th>995</th>\n",
       "      <td>TRX0996</td>\n",
       "      <td>2022-09-22</td>\n",
       "      <td>Healthcare</td>\n",
       "      <td>45.574033</td>\n",
       "      <td>EUR</td>\n",
       "      <td>Credit Card</td>\n",
       "      <td>ATM</td>\n",
       "      <td>Uber</td>\n",
       "      <td>76</td>\n",
       "      <td>Male</td>\n",
       "      <td>September 2022</td>\n",
       "    </tr>\n",
       "    <tr>\n",
       "      <th>996</th>\n",
       "      <td>TRX0997</td>\n",
       "      <td>2022-09-23</td>\n",
       "      <td>Transportation</td>\n",
       "      <td>385.667958</td>\n",
       "      <td>EUR</td>\n",
       "      <td>Debit Card</td>\n",
       "      <td>In-store</td>\n",
       "      <td>Walmart</td>\n",
       "      <td>38</td>\n",
       "      <td>Female</td>\n",
       "      <td>September 2022</td>\n",
       "    </tr>\n",
       "    <tr>\n",
       "      <th>997</th>\n",
       "      <td>TRX0998</td>\n",
       "      <td>2022-09-24</td>\n",
       "      <td>Entertainment</td>\n",
       "      <td>140.521492</td>\n",
       "      <td>GBP</td>\n",
       "      <td>Debit Card</td>\n",
       "      <td>Online</td>\n",
       "      <td>Walmart</td>\n",
       "      <td>75</td>\n",
       "      <td>Female</td>\n",
       "      <td>September 2022</td>\n",
       "    </tr>\n",
       "    <tr>\n",
       "      <th>998</th>\n",
       "      <td>TRX0999</td>\n",
       "      <td>2022-09-25</td>\n",
       "      <td>Entertainment</td>\n",
       "      <td>190.613471</td>\n",
       "      <td>USD</td>\n",
       "      <td>Credit Card</td>\n",
       "      <td>ATM</td>\n",
       "      <td>Walmart</td>\n",
       "      <td>78</td>\n",
       "      <td>Female</td>\n",
       "      <td>September 2022</td>\n",
       "    </tr>\n",
       "    <tr>\n",
       "      <th>999</th>\n",
       "      <td>TRX1000</td>\n",
       "      <td>2022-09-26</td>\n",
       "      <td>Transportation</td>\n",
       "      <td>117.446899</td>\n",
       "      <td>EUR</td>\n",
       "      <td>Cash</td>\n",
       "      <td>Online</td>\n",
       "      <td>Amazon</td>\n",
       "      <td>41</td>\n",
       "      <td>Female</td>\n",
       "      <td>September 2022</td>\n",
       "    </tr>\n",
       "  </tbody>\n",
       "</table>\n",
       "<p>1000 rows × 11 columns</p>\n",
       "</div>"
      ],
      "text/plain": [
       "    Transaction_ID       Date        Category      Amount Currency  \\\n",
       "0          TRX0001 2020-01-01      Healthcare  218.084871      USD   \n",
       "1          TRX0002 2020-01-02       Groceries   62.732676      EUR   \n",
       "2          TRX0003 2020-01-03  Transportation  288.426621      GBP   \n",
       "3          TRX0004 2020-01-04  Transportation  130.812901      USD   \n",
       "4          TRX0005 2020-01-05  Transportation  302.252202      USD   \n",
       "..             ...        ...             ...         ...      ...   \n",
       "995        TRX0996 2022-09-22      Healthcare   45.574033      EUR   \n",
       "996        TRX0997 2022-09-23  Transportation  385.667958      EUR   \n",
       "997        TRX0998 2022-09-24   Entertainment  140.521492      GBP   \n",
       "998        TRX0999 2022-09-25   Entertainment  190.613471      USD   \n",
       "999        TRX1000 2022-09-26  Transportation  117.446899      EUR   \n",
       "\n",
       "    Payment_Method  Location   Merchant  Customer_Age Customer_Gender  \\\n",
       "0       Debit Card       ATM       Uber            49          Female   \n",
       "1      Credit Card       ATM    Walmart            32          Female   \n",
       "2             Cash    Online    Walmart            38          Female   \n",
       "3       Debit Card    Online        CVS            36          Female   \n",
       "4             Cash  In-store  Starbucks            53          Female   \n",
       "..             ...       ...        ...           ...             ...   \n",
       "995    Credit Card       ATM       Uber            76            Male   \n",
       "996     Debit Card  In-store    Walmart            38          Female   \n",
       "997     Debit Card    Online    Walmart            75          Female   \n",
       "998    Credit Card       ATM    Walmart            78          Female   \n",
       "999           Cash    Online     Amazon            41          Female   \n",
       "\n",
       "              Month  \n",
       "0      January 2020  \n",
       "1      January 2020  \n",
       "2      January 2020  \n",
       "3      January 2020  \n",
       "4      January 2020  \n",
       "..              ...  \n",
       "995  September 2022  \n",
       "996  September 2022  \n",
       "997  September 2022  \n",
       "998  September 2022  \n",
       "999  September 2022  \n",
       "\n",
       "[1000 rows x 11 columns]"
      ]
     },
     "execution_count": 42,
     "metadata": {},
     "output_type": "execute_result"
    }
   ],
   "source": [
    "data"
   ]
  },
  {
   "cell_type": "markdown",
   "id": "0336f4e9",
   "metadata": {},
   "source": [
    "#  pie chart between category and amount"
   ]
  },
  {
   "cell_type": "code",
   "execution_count": 43,
   "id": "0a249e94",
   "metadata": {},
   "outputs": [
    {
     "data": {
      "text/plain": [
       "Category\n",
       "Entertainment     48747.741658\n",
       "Groceries         50920.962789\n",
       "Healthcare        47277.137205\n",
       "Transportation    65140.831604\n",
       "Utilities         48139.812031\n",
       "Name: Amount, dtype: float64"
      ]
     },
     "execution_count": 43,
     "metadata": {},
     "output_type": "execute_result"
    },
    {
     "data": {
      "text/plain": [
       "<Figure size 800x800 with 0 Axes>"
      ]
     },
     "metadata": {},
     "output_type": "display_data"
    }
   ],
   "source": [
    "data.groupby('Category')['Amount'].sum()"
   ]
  },
  {
   "cell_type": "code",
   "execution_count": 44,
   "id": "7215be64",
   "metadata": {},
   "outputs": [],
   "source": [
    "category_amount = data.groupby('Category')['Amount'].sum()"
   ]
  },
  {
   "cell_type": "code",
   "execution_count": 49,
   "id": "fc1e1887",
   "metadata": {},
   "outputs": [
    {
     "data": {
      "text/plain": [
       "<AxesSubplot:ylabel='Amount'>"
      ]
     },
     "execution_count": 49,
     "metadata": {},
     "output_type": "execute_result"
    },
    {
     "data": {
      "image/png": "[encoded data removed]",
      "text/plain": [
       "<Figure size 800x800 with 1 Axes>"
      ]
     },
     "metadata": {},
     "output_type": "display_data"
    }
   ],
   "source": [
    "plt.figure(figsize = (8,8))\n",
    "category_amount.plot(kind = \"pie\", autopct = \"%1.1f%%\",\n",
    "                    colors = sns.color_palette(\"Set3\"))"
   ]
  },
  {
   "cell_type": "code",
   "execution_count": 50,
   "id": "0ec25318",
   "metadata": {},
   "outputs": [
    {
     "data": {
      "text/html": [
       "<div>\n",
       "<style scoped>\n",
       "    .dataframe tbody tr th:only-of-type {\n",
       "        vertical-align: middle;\n",
       "    }\n",
       "\n",
       "    .dataframe tbody tr th {\n",
       "        vertical-align: top;\n",
       "    }\n",
       "\n",
       "    .dataframe thead th {\n",
       "        text-align: right;\n",
       "    }\n",
       "</style>\n",
       "<table border=\"1\" class=\"dataframe\">\n",
       "  <thead>\n",
       "    <tr style=\"text-align: right;\">\n",
       "      <th>Location</th>\n",
       "      <th>ATM</th>\n",
       "      <th>In-store</th>\n",
       "      <th>Online</th>\n",
       "    </tr>\n",
       "    <tr>\n",
       "      <th>Payment_Method</th>\n",
       "      <th></th>\n",
       "      <th></th>\n",
       "      <th></th>\n",
       "    </tr>\n",
       "  </thead>\n",
       "  <tbody>\n",
       "    <tr>\n",
       "      <th>Cash</th>\n",
       "      <td>27630.111780</td>\n",
       "      <td>28178.840799</td>\n",
       "      <td>27362.198405</td>\n",
       "    </tr>\n",
       "    <tr>\n",
       "      <th>Credit Card</th>\n",
       "      <td>25931.453813</td>\n",
       "      <td>30571.478954</td>\n",
       "      <td>31208.185066</td>\n",
       "    </tr>\n",
       "    <tr>\n",
       "      <th>Debit Card</th>\n",
       "      <td>31668.208983</td>\n",
       "      <td>27180.921728</td>\n",
       "      <td>30495.085758</td>\n",
       "    </tr>\n",
       "  </tbody>\n",
       "</table>\n",
       "</div>"
      ],
      "text/plain": [
       "Location                 ATM      In-store        Online\n",
       "Payment_Method                                          \n",
       "Cash            27630.111780  28178.840799  27362.198405\n",
       "Credit Card     25931.453813  30571.478954  31208.185066\n",
       "Debit Card      31668.208983  27180.921728  30495.085758"
      ]
     },
     "execution_count": 50,
     "metadata": {},
     "output_type": "execute_result"
    }
   ],
   "source": [
    "pd.pivot_table(data, values = \"Amount\",index =\"Payment_Method\", \n",
    "               columns =\"Location\", aggfunc=np.sum)"
   ]
  },
  {
   "cell_type": "code",
   "execution_count": null,
   "id": "e139f054",
   "metadata": {},
   "outputs": [],
   "source": []
  }
 ],
 "metadata": {
  "kernelspec": {
   "display_name": "Python 3 (ipykernel)",
   "language": "python",
   "name": "python3"
  },
  "language_info": {
   "codemirror_mode": {
    "name": "ipython",
    "version": 3
   },
   "file_extension": ".py",
   "mimetype": "text/x-python",
   "name": "python",
   "nbconvert_exporter": "python",
   "pygments_lexer": "ipython3",
   "version": "3.11.5"
  }
 },
 "nbformat": 4,
 "nbformat_minor": 5
}
